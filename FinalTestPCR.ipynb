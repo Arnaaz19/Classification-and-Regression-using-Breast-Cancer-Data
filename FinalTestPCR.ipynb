{
 "cells": [
  {
   "cell_type": "code",
   "execution_count": 6,
   "id": "1080c915",
   "metadata": {},
   "outputs": [],
   "source": [
    "import pandas as pd\n",
    "import numpy as np\n",
    "import seaborn as sns\n",
    "import matplotlib.pyplot as plt\n",
    "pd.set_option('display.max_columns', None)\n",
    "pd.set_option('display.max_rows', None)\n",
    "\n",
    "test_data=pd.read_excel('TestDatasetExample.xls')\n",
    "test_data.set_index('ID',inplace=True)\n",
    "\n",
    "from sklearn.preprocessing import MinMaxScaler\n",
    "\n",
    "# Create a MinMaxScaler object\n",
    "scaler = MinMaxScaler()\n",
    "\n",
    "\n",
    "X_test_minmax = scaler.fit_transform(test_data)"
   ]
  },
  {
   "cell_type": "code",
   "execution_count": 7,
   "id": "ca9072b6",
   "metadata": {},
   "outputs": [
    {
     "name": "stderr",
     "output_type": "stream",
     "text": [
      "WARNING:absl:At this time, the v2.11+ optimizer `tf.keras.optimizers.RestoredOptimizer` runs slowly on M1/M2 Macs, please use the legacy Keras optimizer instead, located at `tf.keras.optimizers.legacy.RestoredOptimizer`.\n",
      "WARNING:absl:At this time, the v2.11+ optimizer `tf.keras.optimizers.Adam` runs slowly on M1/M2 Macs, please use the legacy Keras optimizer instead, located at `tf.keras.optimizers.legacy.Adam`.\n"
     ]
    },
    {
     "name": "stdout",
     "output_type": "stream",
     "text": [
      "1/1 [==============================] - 0s 61ms/step\n"
     ]
    }
   ],
   "source": [
    "import pickle\n",
    "from tensorflow.keras.models import load_model\n",
    "import numpy as np\n",
    "\n",
    "# Unpickle the path to the saved model\n",
    "with open(\"neural_network_model_path.pkl\", \"rb\") as f:\n",
    "    model_path =pickle.load(f)\n",
    "\n",
    "model = load_model(model_path)\n",
    "y_unseen_pred = model.predict(X_test_minmax)\n",
    "# Classify outputs as 1 if probability > 0.5, else 0\n",
    "y_unseen_pred_classes = (y_unseen_pred > 0.5).astype(int).flatten()"
   ]
  },
  {
   "cell_type": "code",
   "execution_count": 8,
   "id": "ab352771",
   "metadata": {},
   "outputs": [
    {
     "data": {
      "text/plain": [
       "array([[1.9696533e-09],\n",
       "       [1.1157710e-02],\n",
       "       [9.0222976e-08]], dtype=float32)"
      ]
     },
     "execution_count": 8,
     "metadata": {},
     "output_type": "execute_result"
    }
   ],
   "source": [
    "y_unseen_pred"
   ]
  },
  {
   "cell_type": "code",
   "execution_count": 9,
   "id": "da20f17d",
   "metadata": {},
   "outputs": [
    {
     "data": {
      "text/plain": [
       "array([0, 0, 0])"
      ]
     },
     "execution_count": 9,
     "metadata": {},
     "output_type": "execute_result"
    }
   ],
   "source": [
    "y_unseen_pred_classes"
   ]
  },
  {
   "cell_type": "code",
   "execution_count": 10,
   "id": "bb266942",
   "metadata": {},
   "outputs": [],
   "source": [
    "predicted_df = pd.DataFrame(y_unseen_pred_classes, index=test_data.index, columns=['Predicted'])\n",
    "predicted_df.reset_index(inplace=True)\n",
    "\n",
    "# Save the DataFrame to a CSV file\n",
    "\n",
    "predicted_df.to_csv('FinalTestPCR.csv', index=False)\n",
    "\n"
   ]
  },
  {
   "cell_type": "code",
   "execution_count": null,
   "id": "aea4e5f4",
   "metadata": {},
   "outputs": [],
   "source": []
  }
 ],
 "metadata": {
  "kernelspec": {
   "display_name": "Python 3 (ipykernel)",
   "language": "python",
   "name": "python3"
  },
  "language_info": {
   "codemirror_mode": {
    "name": "ipython",
    "version": 3
   },
   "file_extension": ".py",
   "mimetype": "text/x-python",
   "name": "python",
   "nbconvert_exporter": "python",
   "pygments_lexer": "ipython3",
   "version": "3.10.9"
  }
 },
 "nbformat": 4,
 "nbformat_minor": 5
}
